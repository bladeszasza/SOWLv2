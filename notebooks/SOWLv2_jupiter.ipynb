{
  "cells": [
    {
      "cell_type": "markdown",
      "metadata": {},
      "source": [
        "# SOWLv2 Demo Notebook\n",
        "This notebook demonstrates the usage of **SOWLv2**, combining OWLv2 and SAM2 for text-prompted object segmentation on images, folders of frames, and video.\n"
      ]
    },
    {
      "cell_type": "code",
      "execution_count": null,
      "metadata": {},
      "outputs": [],
      "source": [
        "# Install SOWLv2 (from Git repository) and required packages\n",
        "!pip install git+https://github.com/yourusername/SOWLv2.git"
      ]
    },
    {
      "cell_type": "markdown",
      "metadata": {},
      "source": [
        "## Single Image Example\n",
        "We create a sample image and run `sowlv2-detect` with a text prompt.\n"
      ]
    },
    {
      "cell_type": "code",
      "execution_count": null,
      "metadata": {},
      "outputs": [],
      "source": [
        "from skimage import data\n",
        "import imageio\n",
        "import os\n",
        "\n",
        "# Create a sample image (cat) using skimage\n",
        "image = data.chelsea()  # a cat image\n",
        "imageio.imwrite('cat.png', image)\n",
        "\n",
        "# Run the SOWLv2 detector on the image\n",
        "!sowlv2-detect --prompt \"cat\" --input cat.png --output output_image\n",
        "\n",
        "# List output files\n",
        "print(\"Output directory contents:\", os.listdir('output_image'))"
      ]
    },
    {
      "cell_type": "markdown",
      "metadata": {},
      "source": [
        "## Frames Folder Example\n",
        "We create a folder with sample images and run the detector on the folder.\n"
      ]
    },
    {
      "cell_type": "code",
      "execution_count": null,
      "metadata": {},
      "outputs": [],
      "source": [
        "from skimage import data\n",
        "import os\n",
        "import imageio\n",
        "\n",
        "os.makedirs('frames', exist_ok=True)\n",
        "# Create sample images: astronaut (person) and camera (object)\n",
        "imageio.imwrite('frames/person.png', data.astronaut())\n",
        "imageio.imwrite('frames/object.png', data.camera())\n",
        "\n",
        "# Run the detector on the frames folder\n",
        "!sowlv2-detect --prompt \"person\" --input frames --output output_frames\n",
        "\n",
        "# List output files\n",
        "print(\"Output directory contents:\", os.listdir('output_frames'))"
      ]
    },
    {
      "cell_type": "markdown",
      "metadata": {},
      "source": [
        "## Video Example\n",
        "We download a small sample video and run the detector on it with a prompt.\n"
      ]
    },
    {
      "cell_type": "code",
      "execution_count": null,
      "metadata": {},
      "outputs": [
        {
          "name": "stdout",
          "output_type": "stream",
          "text": [
            "Traceback (most recent call last):\n",
            "  File \"/opt/anaconda3/lib/python3.12/site-packages/huggingface_hub/utils/_http.py\", line 409, in hf_raise_for_status\n",
            "    response.raise_for_status()\n",
            "  File \"/opt/anaconda3/lib/python3.12/site-packages/requests/models.py\", line 1024, in raise_for_status\n",
            "    raise HTTPError(http_error_msg, response=self)\n",
            "requests.exceptions.HTTPError: 404 Client Error: Not Found for url: https://huggingface.co/facebook/sam2.1-hiera-small/resolve/main/sam2.1_hiera_s.pt\n",
            "\n",
            "The above exception was the direct cause of the following exception:\n",
            "\n",
            "Traceback (most recent call last):\n",
            "  File \"/opt/anaconda3/bin/sowlv2-detect\", line 8, in <module>\n",
            "    sys.exit(main())\n",
            "             ^^^^^^\n",
            "  File \"/opt/anaconda3/lib/python3.12/site-packages/sowlv2/cli.py\", line 47, in main\n",
            "    pipeline = SOWLv2Pipeline(\n",
            "               ^^^^^^^^^^^^^^^\n",
            "  File \"/opt/anaconda3/lib/python3.12/site-packages/sowlv2/pipeline.py\", line 13, in __init__\n",
            "    self.sam = SAM2Wrapper(model_name=sam_model, device=device)\n",
            "               ^^^^^^^^^^^^^^^^^^^^^^^^^^^^^^^^^^^^^^^^^^^^^^^^\n",
            "  File \"/opt/anaconda3/lib/python3.12/site-packages/sowlv2/sam2_wrapper.py\", line 25, in __init__\n",
            "    ckpt_path = hf_hub_download(model_name, ckpt_name, repo_type=\"model\")\n",
            "                ^^^^^^^^^^^^^^^^^^^^^^^^^^^^^^^^^^^^^^^^^^^^^^^^^^^^^^^^^\n",
            "  File \"/opt/anaconda3/lib/python3.12/site-packages/huggingface_hub/utils/_validators.py\", line 114, in _inner_fn\n",
            "    return fn(*args, **kwargs)\n",
            "           ^^^^^^^^^^^^^^^^^^^\n",
            "  File \"/opt/anaconda3/lib/python3.12/site-packages/huggingface_hub/file_download.py\", line 862, in hf_hub_download\n",
            "    return _hf_hub_download_to_cache_dir(\n",
            "           ^^^^^^^^^^^^^^^^^^^^^^^^^^^^^^\n",
            "  File \"/opt/anaconda3/lib/python3.12/site-packages/huggingface_hub/file_download.py\", line 925, in _hf_hub_download_to_cache_dir\n",
            "    (url_to_download, etag, commit_hash, expected_size, head_call_error) = _get_metadata_or_catch_error(\n",
            "                                                                           ^^^^^^^^^^^^^^^^^^^^^^^^^^^^^\n",
            "  File \"/opt/anaconda3/lib/python3.12/site-packages/huggingface_hub/file_download.py\", line 1376, in _get_metadata_or_catch_error\n",
            "    metadata = get_hf_file_metadata(\n",
            "               ^^^^^^^^^^^^^^^^^^^^^\n",
            "  File \"/opt/anaconda3/lib/python3.12/site-packages/huggingface_hub/utils/_validators.py\", line 114, in _inner_fn\n",
            "    return fn(*args, **kwargs)\n",
            "           ^^^^^^^^^^^^^^^^^^^\n",
            "  File \"/opt/anaconda3/lib/python3.12/site-packages/huggingface_hub/file_download.py\", line 1296, in get_hf_file_metadata\n",
            "    r = _request_wrapper(\n",
            "        ^^^^^^^^^^^^^^^^^\n",
            "  File \"/opt/anaconda3/lib/python3.12/site-packages/huggingface_hub/file_download.py\", line 280, in _request_wrapper\n",
            "    response = _request_wrapper(\n",
            "               ^^^^^^^^^^^^^^^^^\n",
            "  File \"/opt/anaconda3/lib/python3.12/site-packages/huggingface_hub/file_download.py\", line 304, in _request_wrapper\n",
            "    hf_raise_for_status(response)\n",
            "  File \"/opt/anaconda3/lib/python3.12/site-packages/huggingface_hub/utils/_http.py\", line 420, in hf_raise_for_status\n",
            "    raise _format(EntryNotFoundError, message, response) from e\n",
            "huggingface_hub.errors.EntryNotFoundError: 404 Client Error. (Request ID: Root=1-681c52d1-39a6707b1db99640375db63f;5d4e8080-fd4c-49bf-9f63-e9101e9de07b)\n",
            "\n",
            "Entry Not Found for url: https://huggingface.co/facebook/sam2.1-hiera-small/resolve/main/sam2.1_hiera_s.pt.\n"
          ]
        }
      ],
      "source": [
        "import os\n",
        "# Download a sample video\n",
        "!wget -O malamut.mp4 \"https://dm0qx8t0i9gc9.cloudfront.net/watermarks/video/Sks4W_9Alj1v0vmgb/videoblocks-young-beautiful-female-walking-with-siberian-husky-dog-on-the-beach-woman-runs-and-plays-with-husky-dog_hxp1nfbns__4ed9e1619fcbfd31478e7384d5950220__P360.mp4\"\n",
        "\n",
        "\n",
        "# Run the detector on the video\n",
        "!sowlv2-detect --prompt \"person\" --input malamut.mp4 --output output_video --threshold 0.1\n",
        "\n",
        "# List output files (frame overlays and masks)\n",
        "print(\"Output directory contents:\", os.listdir('output_video'))"
      ]
    }
  ],
  "metadata": {
    "colab": {
      "authorship_tag": "ABX9TyORQIyDr0FpZXqfFQ==",
      "collapsed_sections": [],
      "provenance": []
    },
    "kernelspec": {
      "display_name": "base",
      "language": "python",
      "name": "python3"
    },
    "language_info": {
      "codemirror_mode": {
        "name": "ipython",
        "version": 3
      },
      "file_extension": ".py",
      "mimetype": "text/x-python",
      "name": "python",
      "nbconvert_exporter": "python",
      "pygments_lexer": "ipython3",
      "version": "3.12.4"
    }
  },
  "nbformat": 4,
  "nbformat_minor": 0
}
