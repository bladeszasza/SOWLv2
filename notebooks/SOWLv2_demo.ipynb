{
    "cells": [
      {
        "cell_type": "markdown",
        "metadata": {},
        "source": [
          "# SOWLv2 Demo Notebook\n",
          "This notebook demonstrates the usage of **SOWLv2**, combining OWLv2 and SAM2 for text-prompted object segmentation on images, folders of frames, and video.\n"
        ]
      },
      {
        "cell_type": "code",
        "metadata": {},
        "source": [
          "# Install SOWLv2 (from Git repository) and required packages\n",
          "!pip install git+https://github.com/yourusername/SOWLv2.git\n",
          "!pip install --upgrade transformers sam2 opencv-python"
        ]
      },
      {
        "cell_type": "markdown",
        "metadata": {},
        "source": [
          "## Single Image Example\n",
          "We create a sample image and run `sowlv2-detect` with a text prompt.\n"
        ]
      },
      {
        "cell_type": "code",
        "metadata": {},
        "source": [
          "from skimage import data\n",
          "import imageio\n",
          "import os\n",
          "\n",
          "# Create a sample image (cat) using skimage\n",
          "image = data.chelsea()  # a cat image\n",
          "imageio.imwrite('cat.png', image)\n",
          "\n",
          "# Run the SOWLv2 detector on the image\n",
          "!sowlv2-detect --prompt \"cat\" --input cat.png --output output_image\n",
          "\n",
          "# List output files\n",
          "print(\"Output directory contents:\", os.listdir('output_image'))"
        ]
      },
      {
        "cell_type": "markdown",
        "metadata": {},
        "source": [
          "## Frames Folder Example\n",
          "We create a folder with sample images and run the detector on the folder.\n"
        ]
      },
      {
        "cell_type": "code",
        "metadata": {},
        "source": [
          "from skimage import data\n",
          "import os\n",
          "import imageio\n",
          "\n",
          "os.makedirs('frames', exist_ok=True)\n",
          "# Create sample images: astronaut (person) and camera (object)\n",
          "imageio.imwrite('frames/person.png', data.astronaut())\n",
          "imageio.imwrite('frames/object.png', data.camera())\n",
          "\n",
          "# Run the detector on the frames folder\n",
          "!sowlv2-detect --prompt \"person\" --input frames --output output_frames\n",
          "\n",
          "# List output files\n",
          "print(\"Output directory contents:\", os.listdir('output_frames'))"
        ]
      },
      {
        "cell_type": "markdown",
        "metadata": {},
        "source": [
          "## Video Example\n",
          "We download a small sample video and run the detector on it with a prompt.\n"
        ]
      },
      {
        "cell_type": "code",
        "metadata": {},
        "source": [
          "import os\n",
          "# Download a sample video\n",
          "!wget -O sample.mp4 \"http://techslides.com/demos/sample-videos/small.mp4\"\n",
          "\n",
          "# Run the detector on the video\n",
          "!sowlv2-detect --prompt \"dog\" --input sample.mp4 --output output_video\n",
          "\n",
          "# List output files (frame overlays and masks)\n",
          "print(\"Output directory contents:\", os.listdir('output_video'))"
        ]
      }
    ],
    "metadata": {
      "colab": {
        "provenance": [],
        "collapsed_sections": [],
        "authorship_tag": "ABX9TyORQIyDr0FpZXqfFQ=="
      },
      "kernelspec": {
        "display_name": "Python 3",
        "language": "python",
        "name": "python3"
      },
      "language_info": {
        "name": "python"
      }
    },
    "nbformat": 4,
    "nbformat_minor": 0
  }
  